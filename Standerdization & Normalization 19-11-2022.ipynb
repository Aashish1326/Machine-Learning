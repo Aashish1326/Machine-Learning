{
 "cells": [
  {
   "cell_type": "markdown",
   "id": "c68003f2",
   "metadata": {},
   "source": [
    "`Data-Preprocessing`--> It is a Technic by using which we can transform the raw data into a processed data."
   ]
  },
  {
   "cell_type": "markdown",
   "id": "698ec82d",
   "metadata": {},
   "source": [
    "`What is Normalization in Machine Learning?`\n",
    "* Normalization is nothing but it is a transformation techniq where we transform the scales\n",
    "* Normalization only going to apply feature variable (xi) independent\n",
    "* Normalization is done column wise\n",
    "* After applyaing normalization our data points will be between 0 & 1.\n",
    "* Then all data convert in same scale.\n",
    "* Geometrically Normalization looks like bounding box"
   ]
  },
  {
   "cell_type": "markdown",
   "id": "3910afb4",
   "metadata": {},
   "source": [
    "`What is Standerdization in Machine Learning?`\n",
    "* Standerdization is also transformation technic by using which we can transform the data such that a mean will be \n",
    "equal to 0 & satandard daviation will be 1.\n"
   ]
  },
  {
   "cell_type": "markdown",
   "id": "2a6596a6",
   "metadata": {},
   "source": [
    "#### Standerdization & Normalization"
   ]
  },
  {
   "cell_type": "code",
   "execution_count": 1,
   "id": "6dd01cea",
   "metadata": {},
   "outputs": [],
   "source": [
    "import pandas as pd\n",
    "import numpy as np\n",
    "import matplotlib.pyplot as plt\n",
    "import seaborn as sns\n",
    "\n",
    "import random as rd\n",
    "import scipy.stats as ss\n",
    "import scipy as s\n",
    "\n",
    "\n",
    "import warnings\n",
    "import re\n",
    "\n",
    "warnings.filterwarnings(\"ignore\")"
   ]
  },
  {
   "cell_type": "code",
   "execution_count": 2,
   "id": "b5370b68",
   "metadata": {},
   "outputs": [],
   "source": [
    "from sklearn.preprocessing import MinMaxScaler,StandardScaler"
   ]
  },
  {
   "cell_type": "code",
   "execution_count": 3,
   "id": "7e96c8ba",
   "metadata": {},
   "outputs": [],
   "source": [
    "x=np.arange(1,100)"
   ]
  },
  {
   "cell_type": "code",
   "execution_count": 4,
   "id": "1c5a9698",
   "metadata": {},
   "outputs": [],
   "source": [
    "data=pd.DataFrame(x)"
   ]
  },
  {
   "cell_type": "code",
   "execution_count": 5,
   "id": "0a506ffe",
   "metadata": {},
   "outputs": [],
   "source": [
    "mi=MinMaxScaler()  "
   ]
  },
  {
   "cell_type": "code",
   "execution_count": 6,
   "id": "10bd2b0c",
   "metadata": {},
   "outputs": [
    {
     "data": {
      "text/plain": [
       "array([[0.        ],\n",
       "       [0.01020408],\n",
       "       [0.02040816],\n",
       "       [0.03061224],\n",
       "       [0.04081633],\n",
       "       [0.05102041],\n",
       "       [0.06122449],\n",
       "       [0.07142857],\n",
       "       [0.08163265],\n",
       "       [0.09183673],\n",
       "       [0.10204082],\n",
       "       [0.1122449 ],\n",
       "       [0.12244898],\n",
       "       [0.13265306],\n",
       "       [0.14285714],\n",
       "       [0.15306122],\n",
       "       [0.16326531],\n",
       "       [0.17346939],\n",
       "       [0.18367347],\n",
       "       [0.19387755],\n",
       "       [0.20408163],\n",
       "       [0.21428571],\n",
       "       [0.2244898 ],\n",
       "       [0.23469388],\n",
       "       [0.24489796],\n",
       "       [0.25510204],\n",
       "       [0.26530612],\n",
       "       [0.2755102 ],\n",
       "       [0.28571429],\n",
       "       [0.29591837],\n",
       "       [0.30612245],\n",
       "       [0.31632653],\n",
       "       [0.32653061],\n",
       "       [0.33673469],\n",
       "       [0.34693878],\n",
       "       [0.35714286],\n",
       "       [0.36734694],\n",
       "       [0.37755102],\n",
       "       [0.3877551 ],\n",
       "       [0.39795918],\n",
       "       [0.40816327],\n",
       "       [0.41836735],\n",
       "       [0.42857143],\n",
       "       [0.43877551],\n",
       "       [0.44897959],\n",
       "       [0.45918367],\n",
       "       [0.46938776],\n",
       "       [0.47959184],\n",
       "       [0.48979592],\n",
       "       [0.5       ],\n",
       "       [0.51020408],\n",
       "       [0.52040816],\n",
       "       [0.53061224],\n",
       "       [0.54081633],\n",
       "       [0.55102041],\n",
       "       [0.56122449],\n",
       "       [0.57142857],\n",
       "       [0.58163265],\n",
       "       [0.59183673],\n",
       "       [0.60204082],\n",
       "       [0.6122449 ],\n",
       "       [0.62244898],\n",
       "       [0.63265306],\n",
       "       [0.64285714],\n",
       "       [0.65306122],\n",
       "       [0.66326531],\n",
       "       [0.67346939],\n",
       "       [0.68367347],\n",
       "       [0.69387755],\n",
       "       [0.70408163],\n",
       "       [0.71428571],\n",
       "       [0.7244898 ],\n",
       "       [0.73469388],\n",
       "       [0.74489796],\n",
       "       [0.75510204],\n",
       "       [0.76530612],\n",
       "       [0.7755102 ],\n",
       "       [0.78571429],\n",
       "       [0.79591837],\n",
       "       [0.80612245],\n",
       "       [0.81632653],\n",
       "       [0.82653061],\n",
       "       [0.83673469],\n",
       "       [0.84693878],\n",
       "       [0.85714286],\n",
       "       [0.86734694],\n",
       "       [0.87755102],\n",
       "       [0.8877551 ],\n",
       "       [0.89795918],\n",
       "       [0.90816327],\n",
       "       [0.91836735],\n",
       "       [0.92857143],\n",
       "       [0.93877551],\n",
       "       [0.94897959],\n",
       "       [0.95918367],\n",
       "       [0.96938776],\n",
       "       [0.97959184],\n",
       "       [0.98979592],\n",
       "       [1.        ]])"
      ]
     },
     "execution_count": 6,
     "metadata": {},
     "output_type": "execute_result"
    }
   ],
   "source": [
    "mi.fit_transform(data[[0]])"
   ]
  },
  {
   "cell_type": "code",
   "execution_count": 7,
   "id": "5c0f5384",
   "metadata": {},
   "outputs": [],
   "source": [
    "td=mi.fit_transform(data[[0]])"
   ]
  },
  {
   "cell_type": "code",
   "execution_count": 8,
   "id": "69ae8ec5",
   "metadata": {},
   "outputs": [
    {
     "data": {
      "text/html": [
       "<div>\n",
       "<style scoped>\n",
       "    .dataframe tbody tr th:only-of-type {\n",
       "        vertical-align: middle;\n",
       "    }\n",
       "\n",
       "    .dataframe tbody tr th {\n",
       "        vertical-align: top;\n",
       "    }\n",
       "\n",
       "    .dataframe thead th {\n",
       "        text-align: right;\n",
       "    }\n",
       "</style>\n",
       "<table border=\"1\" class=\"dataframe\">\n",
       "  <thead>\n",
       "    <tr style=\"text-align: right;\">\n",
       "      <th></th>\n",
       "      <th>0</th>\n",
       "    </tr>\n",
       "  </thead>\n",
       "  <tbody>\n",
       "    <tr>\n",
       "      <th>0</th>\n",
       "      <td>0.000000</td>\n",
       "    </tr>\n",
       "    <tr>\n",
       "      <th>1</th>\n",
       "      <td>0.010204</td>\n",
       "    </tr>\n",
       "    <tr>\n",
       "      <th>2</th>\n",
       "      <td>0.020408</td>\n",
       "    </tr>\n",
       "    <tr>\n",
       "      <th>3</th>\n",
       "      <td>0.030612</td>\n",
       "    </tr>\n",
       "    <tr>\n",
       "      <th>4</th>\n",
       "      <td>0.040816</td>\n",
       "    </tr>\n",
       "    <tr>\n",
       "      <th>...</th>\n",
       "      <td>...</td>\n",
       "    </tr>\n",
       "    <tr>\n",
       "      <th>94</th>\n",
       "      <td>0.959184</td>\n",
       "    </tr>\n",
       "    <tr>\n",
       "      <th>95</th>\n",
       "      <td>0.969388</td>\n",
       "    </tr>\n",
       "    <tr>\n",
       "      <th>96</th>\n",
       "      <td>0.979592</td>\n",
       "    </tr>\n",
       "    <tr>\n",
       "      <th>97</th>\n",
       "      <td>0.989796</td>\n",
       "    </tr>\n",
       "    <tr>\n",
       "      <th>98</th>\n",
       "      <td>1.000000</td>\n",
       "    </tr>\n",
       "  </tbody>\n",
       "</table>\n",
       "<p>99 rows × 1 columns</p>\n",
       "</div>"
      ],
      "text/plain": [
       "           0\n",
       "0   0.000000\n",
       "1   0.010204\n",
       "2   0.020408\n",
       "3   0.030612\n",
       "4   0.040816\n",
       "..       ...\n",
       "94  0.959184\n",
       "95  0.969388\n",
       "96  0.979592\n",
       "97  0.989796\n",
       "98  1.000000\n",
       "\n",
       "[99 rows x 1 columns]"
      ]
     },
     "execution_count": 8,
     "metadata": {},
     "output_type": "execute_result"
    }
   ],
   "source": [
    "pd.DataFrame(td)"
   ]
  },
  {
   "cell_type": "code",
   "execution_count": 9,
   "id": "4b0257f0",
   "metadata": {},
   "outputs": [],
   "source": [
    "std=StandardScaler() #----> Standerdization  "
   ]
  },
  {
   "cell_type": "code",
   "execution_count": 10,
   "id": "4925fe7a",
   "metadata": {},
   "outputs": [],
   "source": [
    "new_d=std.fit_transform(data[[0]])"
   ]
  },
  {
   "cell_type": "code",
   "execution_count": 11,
   "id": "31dedccf",
   "metadata": {},
   "outputs": [
    {
     "data": {
      "text/plain": [
       "-2.0185873175002847e-17"
      ]
     },
     "execution_count": 11,
     "metadata": {},
     "output_type": "execute_result"
    }
   ],
   "source": [
    "np.mean(new_d)"
   ]
  },
  {
   "cell_type": "code",
   "execution_count": 12,
   "id": "8114296f",
   "metadata": {},
   "outputs": [
    {
     "data": {
      "text/plain": [
       "0.9999999999999999"
      ]
     },
     "execution_count": 12,
     "metadata": {},
     "output_type": "execute_result"
    }
   ],
   "source": [
    "np.std(new_d)"
   ]
  },
  {
   "cell_type": "code",
   "execution_count": 13,
   "id": "78e7a3bb",
   "metadata": {},
   "outputs": [],
   "source": [
    "data1=pd.read_csv(r\"D:\\Data Sets\\house_price_full.csv\")"
   ]
  },
  {
   "cell_type": "code",
   "execution_count": 14,
   "id": "a6892ec8",
   "metadata": {},
   "outputs": [
    {
     "data": {
      "text/html": [
       "<div>\n",
       "<style scoped>\n",
       "    .dataframe tbody tr th:only-of-type {\n",
       "        vertical-align: middle;\n",
       "    }\n",
       "\n",
       "    .dataframe tbody tr th {\n",
       "        vertical-align: top;\n",
       "    }\n",
       "\n",
       "    .dataframe thead th {\n",
       "        text-align: right;\n",
       "    }\n",
       "</style>\n",
       "<table border=\"1\" class=\"dataframe\">\n",
       "  <thead>\n",
       "    <tr style=\"text-align: right;\">\n",
       "      <th></th>\n",
       "      <th>bedrooms</th>\n",
       "      <th>sqft_living</th>\n",
       "      <th>price</th>\n",
       "    </tr>\n",
       "  </thead>\n",
       "  <tbody>\n",
       "    <tr>\n",
       "      <th>0</th>\n",
       "      <td>3</td>\n",
       "      <td>1340</td>\n",
       "      <td>313000</td>\n",
       "    </tr>\n",
       "    <tr>\n",
       "      <th>1</th>\n",
       "      <td>5</td>\n",
       "      <td>3650</td>\n",
       "      <td>2384000</td>\n",
       "    </tr>\n",
       "    <tr>\n",
       "      <th>2</th>\n",
       "      <td>3</td>\n",
       "      <td>1930</td>\n",
       "      <td>342000</td>\n",
       "    </tr>\n",
       "    <tr>\n",
       "      <th>3</th>\n",
       "      <td>3</td>\n",
       "      <td>2000</td>\n",
       "      <td>420000</td>\n",
       "    </tr>\n",
       "    <tr>\n",
       "      <th>4</th>\n",
       "      <td>4</td>\n",
       "      <td>1940</td>\n",
       "      <td>550000</td>\n",
       "    </tr>\n",
       "    <tr>\n",
       "      <th>...</th>\n",
       "      <td>...</td>\n",
       "      <td>...</td>\n",
       "      <td>...</td>\n",
       "    </tr>\n",
       "    <tr>\n",
       "      <th>494</th>\n",
       "      <td>4</td>\n",
       "      <td>3040</td>\n",
       "      <td>647000</td>\n",
       "    </tr>\n",
       "    <tr>\n",
       "      <th>495</th>\n",
       "      <td>5</td>\n",
       "      <td>4530</td>\n",
       "      <td>950000</td>\n",
       "    </tr>\n",
       "    <tr>\n",
       "      <th>496</th>\n",
       "      <td>3</td>\n",
       "      <td>1370</td>\n",
       "      <td>185000</td>\n",
       "    </tr>\n",
       "    <tr>\n",
       "      <th>497</th>\n",
       "      <td>3</td>\n",
       "      <td>1940</td>\n",
       "      <td>335000</td>\n",
       "    </tr>\n",
       "    <tr>\n",
       "      <th>498</th>\n",
       "      <td>3</td>\n",
       "      <td>1040</td>\n",
       "      <td>210000</td>\n",
       "    </tr>\n",
       "  </tbody>\n",
       "</table>\n",
       "<p>499 rows × 3 columns</p>\n",
       "</div>"
      ],
      "text/plain": [
       "     bedrooms  sqft_living    price\n",
       "0           3         1340   313000\n",
       "1           5         3650  2384000\n",
       "2           3         1930   342000\n",
       "3           3         2000   420000\n",
       "4           4         1940   550000\n",
       "..        ...          ...      ...\n",
       "494         4         3040   647000\n",
       "495         5         4530   950000\n",
       "496         3         1370   185000\n",
       "497         3         1940   335000\n",
       "498         3         1040   210000\n",
       "\n",
       "[499 rows x 3 columns]"
      ]
     },
     "execution_count": 14,
     "metadata": {},
     "output_type": "execute_result"
    }
   ],
   "source": [
    "data1"
   ]
  },
  {
   "cell_type": "code",
   "execution_count": 15,
   "id": "826edf63",
   "metadata": {},
   "outputs": [],
   "source": [
    "mi=MinMaxScaler() #----> normalization"
   ]
  },
  {
   "cell_type": "code",
   "execution_count": 16,
   "id": "e0c8c208",
   "metadata": {},
   "outputs": [
    {
     "data": {
      "text/html": [
       "<div>\n",
       "<style scoped>\n",
       "    .dataframe tbody tr th:only-of-type {\n",
       "        vertical-align: middle;\n",
       "    }\n",
       "\n",
       "    .dataframe tbody tr th {\n",
       "        vertical-align: top;\n",
       "    }\n",
       "\n",
       "    .dataframe thead th {\n",
       "        text-align: right;\n",
       "    }\n",
       "</style>\n",
       "<table border=\"1\" class=\"dataframe\">\n",
       "  <thead>\n",
       "    <tr style=\"text-align: right;\">\n",
       "      <th></th>\n",
       "      <th>0</th>\n",
       "      <th>1</th>\n",
       "    </tr>\n",
       "  </thead>\n",
       "  <tbody>\n",
       "    <tr>\n",
       "      <th>0</th>\n",
       "      <td>0.048362</td>\n",
       "      <td>0.068710</td>\n",
       "    </tr>\n",
       "    <tr>\n",
       "      <th>1</th>\n",
       "      <td>0.228549</td>\n",
       "      <td>0.736774</td>\n",
       "    </tr>\n",
       "    <tr>\n",
       "      <th>2</th>\n",
       "      <td>0.094384</td>\n",
       "      <td>0.078065</td>\n",
       "    </tr>\n",
       "    <tr>\n",
       "      <th>3</th>\n",
       "      <td>0.099844</td>\n",
       "      <td>0.103226</td>\n",
       "    </tr>\n",
       "    <tr>\n",
       "      <th>4</th>\n",
       "      <td>0.095164</td>\n",
       "      <td>0.145161</td>\n",
       "    </tr>\n",
       "    <tr>\n",
       "      <th>...</th>\n",
       "      <td>...</td>\n",
       "      <td>...</td>\n",
       "    </tr>\n",
       "    <tr>\n",
       "      <th>494</th>\n",
       "      <td>0.180967</td>\n",
       "      <td>0.176452</td>\n",
       "    </tr>\n",
       "    <tr>\n",
       "      <th>495</th>\n",
       "      <td>0.297192</td>\n",
       "      <td>0.274194</td>\n",
       "    </tr>\n",
       "    <tr>\n",
       "      <th>496</th>\n",
       "      <td>0.050702</td>\n",
       "      <td>0.027419</td>\n",
       "    </tr>\n",
       "    <tr>\n",
       "      <th>497</th>\n",
       "      <td>0.095164</td>\n",
       "      <td>0.075806</td>\n",
       "    </tr>\n",
       "    <tr>\n",
       "      <th>498</th>\n",
       "      <td>0.024961</td>\n",
       "      <td>0.035484</td>\n",
       "    </tr>\n",
       "  </tbody>\n",
       "</table>\n",
       "<p>499 rows × 2 columns</p>\n",
       "</div>"
      ],
      "text/plain": [
       "            0         1\n",
       "0    0.048362  0.068710\n",
       "1    0.228549  0.736774\n",
       "2    0.094384  0.078065\n",
       "3    0.099844  0.103226\n",
       "4    0.095164  0.145161\n",
       "..        ...       ...\n",
       "494  0.180967  0.176452\n",
       "495  0.297192  0.274194\n",
       "496  0.050702  0.027419\n",
       "497  0.095164  0.075806\n",
       "498  0.024961  0.035484\n",
       "\n",
       "[499 rows x 2 columns]"
      ]
     },
     "execution_count": 16,
     "metadata": {},
     "output_type": "execute_result"
    }
   ],
   "source": [
    "pd.DataFrame(mi.fit_transform(data1[[\"sqft_living\",\"price\"]]))"
   ]
  },
  {
   "cell_type": "code",
   "execution_count": null,
   "id": "29507115",
   "metadata": {},
   "outputs": [],
   "source": [
    "🤞"
   ]
  }
 ],
 "metadata": {
  "kernelspec": {
   "display_name": "Python 3 (ipykernel)",
   "language": "python",
   "name": "python3"
  },
  "language_info": {
   "codemirror_mode": {
    "name": "ipython",
    "version": 3
   },
   "file_extension": ".py",
   "mimetype": "text/x-python",
   "name": "python",
   "nbconvert_exporter": "python",
   "pygments_lexer": "ipython3",
   "version": "3.9.13"
  }
 },
 "nbformat": 4,
 "nbformat_minor": 5
}
